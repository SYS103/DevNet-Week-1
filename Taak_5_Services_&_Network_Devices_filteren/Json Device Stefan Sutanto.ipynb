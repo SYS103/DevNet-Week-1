{
 "cells": [
  {
   "cell_type": "code",
   "execution_count": 5,
   "id": "90728d88-c3f1-4eb1-a841-37a3121d9376",
   "metadata": {
    "collapsed": true,
    "jupyter": {
     "outputs_hidden": true
    },
    "scrolled": true
   },
   "outputs": [
    {
     "name": "stdout",
     "output_type": "stream",
     "text": [
      "{\n",
      "    \"rack\": [\n",
      "        {\n",
      "            \"device\": {\n",
      "                \"dev_id\": \"D1\",\n",
      "                \"dev_name\": \"R1\",\n",
      "                \"role\": \"router\",\n",
      "                \"interfaces\": [\n",
      "                    {\n",
      "                        \"interface\": \"GigabitEthernet1\",\n",
      "                        \"ipaddress\": \"10.0.1.1\",\n",
      "                        \"subnet_mask\": \"255.255.255.0\"\n",
      "                    },\n",
      "                    {\n",
      "                        \"interface\": \"GigabitEthernet1\",\n",
      "                        \"ipaddress\": \"10.0.3.1\",\n",
      "                        \"subnet_mask\": \"255.255.255.0\"\n",
      "                    },\n",
      "                    {\n",
      "                        \"interface\": \"GigabitEthernet1\",\n",
      "                        \"ipaddress\": \"10.0.4.1\",\n",
      "                        \"subnet_mask\": \"255.255.255.0\"\n",
      "                    }\n",
      "                ]\n",
      "            }\n",
      "        },\n",
      "        {\n",
      "            \"device\": {\n",
      "                \"dev_id\": \"D2\",\n",
      "                \"dev_name\": \"C1\",\n",
      "                \"role\": \"core\",\n",
      "                \"interfaces\": [\n",
      "                    {\n",
      "                        \"interface\": \"VLAN1\",\n",
      "                        \"ipaddress\": \"10.0.1.2\",\n",
      "                        \"subnet_mask\": \"255.255.255.0\"\n",
      "                    },\n",
      "                    {\n",
      "                        \"interface\": \"VLAN2\",\n",
      "                        \"ipaddress\": \"10.0.2.1\",\n",
      "                        \"subnet_mask\": \"255.255.255.0\"\n",
      "                    },\n",
      "                    {\n",
      "                        \"interface\": \"VLAN20\",\n",
      "                        \"ipaddress\": \"10.0.20.1\",\n",
      "                        \"subnet_mask\": \"255.255.255.0\"\n",
      "                    }\n",
      "                ]\n",
      "            }\n",
      "        },\n",
      "        {\n",
      "            \"device\": {\n",
      "                \"dev_id\": \"D3\",\n",
      "                \"dev_name\": \"AC\",\n",
      "                \"role\": \"access\",\n",
      "                \"interfaces\": [\n",
      "                    {\n",
      "                        \"interface\": \"VLAN2\",\n",
      "                        \"ipaddress\": \"10.0.2.2\",\n",
      "                        \"subnet_mask\": \"255.255.255.0\"\n",
      "                    }\n",
      "                ]\n",
      "            }\n",
      "        }\n",
      "    ]\n",
      "}\n"
     ]
    }
   ],
   "source": [
    "import json\n",
    "### RULES\n",
    "inventory_dict     = {} #### {\"interface\": \"gi0/1\", \"ipaddress\": \"1.2.2.1\", \"subnetmask\": \"255.255.255.0\", \"device\": \"dv\"}\n",
    "inventory_list     = []\n",
    "rack_struc         = {} #### YANG MODULE OF CONTAINER {inventory_dict}\n",
    "rack_struc[\"rack\"] = [] #### YANG CONTAINER {inventory_list}\n",
    "dev_dict           = {} #### YANG LEAF {\"device\": {\"dev_name\": \"n\", \"role\": \"r\" , \"interface\": interface_list}}\n",
    "dev_list           = [] #### YANG LIST [dev_dict]\n",
    "interface_dict     = {} #### YANG LEAF {\"interface\": \"gi0/1\", \"ipaddress\": \"1.2.2.1\", \"subnetmask\": \"255.255.255.0\"}\n",
    "interface_list     = [] #### YANG LIST [interface_dict]\n",
    "\n",
    "####\n",
    "rack_struc = {\n",
    "    \"rack\": [\n",
    "        { \"device\": { \"dev_id\": \"D1\" ,\n",
    "                      \"dev_name\": \"R1\" ,\n",
    "                      \"role\": \"router\" ,\n",
    "                      \"interfaces\": [\n",
    "                          {\"interface\": \"GigabitEthernet1\" , \"ipaddress\": \"10.0.1.1\", \"subnet_mask\": \"255.255.255.0\"}, \n",
    "                          {\"interface\": \"GigabitEthernet1\" , \"ipaddress\": \"10.0.3.1\", \"subnet_mask\": \"255.255.255.0\"}, \n",
    "                          {\"interface\": \"GigabitEthernet1\" , \"ipaddress\": \"10.0.4.1\", \"subnet_mask\": \"255.255.255.0\"}\n",
    "                      ]\n",
    "                    }\n",
    "        }, \n",
    "        { \"device\": { \"dev_id\": \"D2\" , \"dev_name\": \"C1\" , \"role\": \"core\" ,\n",
    "                      \"interfaces\": [\n",
    "                          {\"interface\": \"VLAN1\"  ,\"ipaddress\": \"10.0.1.2\", \"subnet_mask\": \"255.255.255.0\"}, \n",
    "                          {\"interface\": \"VLAN2\"  ,\"ipaddress\": \"10.0.2.1\", \"subnet_mask\": \"255.255.255.0\"}, \n",
    "                          {\"interface\": \"VLAN20\" ,\"ipaddress\": \"10.0.20.1\", \"subnet_mask\": \"255.255.255.0\"}\n",
    "                      ]\n",
    "                    }\n",
    "        },\n",
    "        { \"device\": { \"dev_id\": \"D3\" , \"dev_name\": \"AC\" , \"role\": \"access\" ,\n",
    "                      \"interfaces\": [\n",
    "                          {\"interface\": \"VLAN2\"  ,\"ipaddress\": \"10.0.2.2\", \"subnet_mask\": \"255.255.255.0\"}, \n",
    "                          ]\n",
    "                    }\n",
    "        }\n",
    "    ]\n",
    "}\n",
    "\n",
    "print(json.dumps(rack_struc, indent=4))"
   ]
  },
  {
   "cell_type": "markdown",
   "id": "e805e7ed-3a95-4aea-90c0-cb19b021d63d",
   "metadata": {},
   "source": [
    "# Filteren"
   ]
  },
  {
   "cell_type": "code",
   "execution_count": 11,
   "id": "810712e7-1462-491d-b6ff-2212ca8f2e9a",
   "metadata": {
    "collapsed": true,
    "jupyter": {
     "outputs_hidden": true
    }
   },
   "outputs": [
    {
     "name": "stdout",
     "output_type": "stream",
     "text": [
      "-------1-------\n",
      "<class 'dict'>\n",
      "{'rack': [{'device': {'dev_id': 'D1', 'dev_name': 'R1', 'role': 'router', 'interfaces': [{'interface': 'GigabitEthernet1', 'ipaddress': '10.0.1.1', 'subnet_mask': '255.255.255.0'}, {'interface': 'GigabitEthernet1', 'ipaddress': '10.0.3.1', 'subnet_mask': '255.255.255.0'}, {'interface': 'GigabitEthernet1', 'ipaddress': '10.0.4.1', 'subnet_mask': '255.255.255.0'}]}}, {'device': {'dev_id': 'D2', 'dev_name': 'C1', 'role': 'core', 'interfaces': [{'interface': 'VLAN1', 'ipaddress': '10.0.1.2', 'subnet_mask': '255.255.255.0'}, {'interface': 'VLAN2', 'ipaddress': '10.0.2.1', 'subnet_mask': '255.255.255.0'}, {'interface': 'VLAN20', 'ipaddress': '10.0.20.1', 'subnet_mask': '255.255.255.0'}]}}, {'device': {'dev_id': 'D3', 'dev_name': 'AC', 'role': 'access', 'interfaces': [{'interface': 'VLAN2', 'ipaddress': '10.0.2.2', 'subnet_mask': '255.255.255.0'}]}}]}\n",
      "------1A-------\n",
      "<class 'str'>\n",
      "{\"rack\": [{\"device\": {\"dev_id\": \"D1\", \"dev_name\": \"R1\", \"role\": \"router\", \"interfaces\": [{\"interface\": \"GigabitEthernet1\", \"ipaddress\": \"10.0.1.1\", \"subnet_mask\": \"255.255.255.0\"}, {\"interface\": \"GigabitEthernet1\", \"ipaddress\": \"10.0.3.1\", \"subnet_mask\": \"255.255.255.0\"}, {\"interface\": \"GigabitEthernet1\", \"ipaddress\": \"10.0.4.1\", \"subnet_mask\": \"255.255.255.0\"}]}}, {\"device\": {\"dev_id\": \"D2\", \"dev_name\": \"C1\", \"role\": \"core\", \"interfaces\": [{\"interface\": \"VLAN1\", \"ipaddress\": \"10.0.1.2\", \"subnet_mask\": \"255.255.255.0\"}, {\"interface\": \"VLAN2\", \"ipaddress\": \"10.0.2.1\", \"subnet_mask\": \"255.255.255.0\"}, {\"interface\": \"VLAN20\", \"ipaddress\": \"10.0.20.1\", \"subnet_mask\": \"255.255.255.0\"}]}}, {\"device\": {\"dev_id\": \"D3\", \"dev_name\": \"AC\", \"role\": \"access\", \"interfaces\": [{\"interface\": \"VLAN2\", \"ipaddress\": \"10.0.2.2\", \"subnet_mask\": \"255.255.255.0\"}]}}]}\n",
      "------1B-------\n",
      "{\n",
      "    \"rack\": [\n",
      "        {\n",
      "            \"device\": {\n",
      "                \"dev_id\": \"D1\",\n",
      "                \"dev_name\": \"R1\",\n",
      "                \"role\": \"router\",\n",
      "                \"interfaces\": [\n",
      "                    {\n",
      "                        \"interface\": \"GigabitEthernet1\",\n",
      "                        \"ipaddress\": \"10.0.1.1\",\n",
      "                        \"subnet_mask\": \"255.255.255.0\"\n",
      "                    },\n",
      "                    {\n",
      "                        \"interface\": \"GigabitEthernet1\",\n",
      "                        \"ipaddress\": \"10.0.3.1\",\n",
      "                        \"subnet_mask\": \"255.255.255.0\"\n",
      "                    },\n",
      "                    {\n",
      "                        \"interface\": \"GigabitEthernet1\",\n",
      "                        \"ipaddress\": \"10.0.4.1\",\n",
      "                        \"subnet_mask\": \"255.255.255.0\"\n",
      "                    }\n",
      "                ]\n",
      "            }\n",
      "        },\n",
      "        {\n",
      "            \"device\": {\n",
      "                \"dev_id\": \"D2\",\n",
      "                \"dev_name\": \"C1\",\n",
      "                \"role\": \"core\",\n",
      "                \"interfaces\": [\n",
      "                    {\n",
      "                        \"interface\": \"VLAN1\",\n",
      "                        \"ipaddress\": \"10.0.1.2\",\n",
      "                        \"subnet_mask\": \"255.255.255.0\"\n",
      "                    },\n",
      "                    {\n",
      "                        \"interface\": \"VLAN2\",\n",
      "                        \"ipaddress\": \"10.0.2.1\",\n",
      "                        \"subnet_mask\": \"255.255.255.0\"\n",
      "                    },\n",
      "                    {\n",
      "                        \"interface\": \"VLAN20\",\n",
      "                        \"ipaddress\": \"10.0.20.1\",\n",
      "                        \"subnet_mask\": \"255.255.255.0\"\n",
      "                    }\n",
      "                ]\n",
      "            }\n",
      "        },\n",
      "        {\n",
      "            \"device\": {\n",
      "                \"dev_id\": \"D3\",\n",
      "                \"dev_name\": \"AC\",\n",
      "                \"role\": \"access\",\n",
      "                \"interfaces\": [\n",
      "                    {\n",
      "                        \"interface\": \"VLAN2\",\n",
      "                        \"ipaddress\": \"10.0.2.2\",\n",
      "                        \"subnet_mask\": \"255.255.255.0\"\n",
      "                    }\n",
      "                ]\n",
      "            }\n",
      "        }\n",
      "    ]\n",
      "}\n"
     ]
    }
   ],
   "source": [
    "print(\"-------1-------\")\n",
    "print(type(rack_struc))\n",
    "print(rack_struc)\n",
    "print(\"------1A-------\")\n",
    "js_groups = json.dumps(rack_struc)\n",
    "print(type(js_groups))\n",
    "print(js_groups)\n",
    "print(\"------1B-------\")\n",
    "print(json.dumps(rack_struc, indent=4))"
   ]
  },
  {
   "cell_type": "code",
   "execution_count": 13,
   "id": "56295476-dede-4ab8-b903-78f9eee7bb08",
   "metadata": {
    "collapsed": true,
    "jupyter": {
     "outputs_hidden": true
    }
   },
   "outputs": [
    {
     "name": "stdout",
     "output_type": "stream",
     "text": [
      "-------2--------\n",
      "-------2A-------\n",
      "<class 'dict'>\n",
      "{'device': {'dev_id': 'D1', 'dev_name': 'R1', 'role': 'router', 'interfaces': [{'interface': 'GigabitEthernet1', 'ipaddress': '10.0.1.1', 'subnet_mask': '255.255.255.0'}, {'interface': 'GigabitEthernet1', 'ipaddress': '10.0.3.1', 'subnet_mask': '255.255.255.0'}, {'interface': 'GigabitEthernet1', 'ipaddress': '10.0.4.1', 'subnet_mask': '255.255.255.0'}]}}\n",
      "[{'interface': 'GigabitEthernet1', 'ipaddress': '10.0.1.1', 'subnet_mask': '255.255.255.0'}, {'interface': 'GigabitEthernet1', 'ipaddress': '10.0.3.1', 'subnet_mask': '255.255.255.0'}, {'interface': 'GigabitEthernet1', 'ipaddress': '10.0.4.1', 'subnet_mask': '255.255.255.0'}]\n",
      "{'interface': 'GigabitEthernet1', 'ipaddress': '10.0.1.1', 'subnet_mask': '255.255.255.0'}\n",
      "{'interface': 'GigabitEthernet1', 'ipaddress': '10.0.3.1', 'subnet_mask': '255.255.255.0'}\n",
      "{'interface': 'GigabitEthernet1', 'ipaddress': '10.0.4.1', 'subnet_mask': '255.255.255.0'}\n",
      "-------2A-------\n",
      "<class 'dict'>\n",
      "{'device': {'dev_id': 'D2', 'dev_name': 'C1', 'role': 'core', 'interfaces': [{'interface': 'VLAN1', 'ipaddress': '10.0.1.2', 'subnet_mask': '255.255.255.0'}, {'interface': 'VLAN2', 'ipaddress': '10.0.2.1', 'subnet_mask': '255.255.255.0'}, {'interface': 'VLAN20', 'ipaddress': '10.0.20.1', 'subnet_mask': '255.255.255.0'}]}}\n",
      "[{'interface': 'VLAN1', 'ipaddress': '10.0.1.2', 'subnet_mask': '255.255.255.0'}, {'interface': 'VLAN2', 'ipaddress': '10.0.2.1', 'subnet_mask': '255.255.255.0'}, {'interface': 'VLAN20', 'ipaddress': '10.0.20.1', 'subnet_mask': '255.255.255.0'}]\n",
      "{'interface': 'VLAN1', 'ipaddress': '10.0.1.2', 'subnet_mask': '255.255.255.0'}\n",
      "{'interface': 'VLAN2', 'ipaddress': '10.0.2.1', 'subnet_mask': '255.255.255.0'}\n",
      "{'interface': 'VLAN20', 'ipaddress': '10.0.20.1', 'subnet_mask': '255.255.255.0'}\n",
      "-------2A-------\n",
      "<class 'dict'>\n",
      "{'device': {'dev_id': 'D3', 'dev_name': 'AC', 'role': 'access', 'interfaces': [{'interface': 'VLAN2', 'ipaddress': '10.0.2.2', 'subnet_mask': '255.255.255.0'}]}}\n",
      "[{'interface': 'VLAN2', 'ipaddress': '10.0.2.2', 'subnet_mask': '255.255.255.0'}]\n",
      "{'interface': 'VLAN2', 'ipaddress': '10.0.2.2', 'subnet_mask': '255.255.255.0'}\n"
     ]
    }
   ],
   "source": [
    "print(\"-------2--------\")\n",
    "for g in rack_struc[\"rack\"]:\n",
    "    print(\"-------2A-------\")\n",
    "    print(type(g))\n",
    "    print (g)\n",
    "    print(g[\"device\"][\"interfaces\"])\n",
    "    for p in g[\"device\"][\"interfaces\"]:\n",
    "        print(p)"
   ]
  },
  {
   "cell_type": "code",
   "execution_count": 15,
   "id": "6996c2fe-5770-422c-bf3f-2408d603e8c7",
   "metadata": {},
   "outputs": [
    {
     "name": "stdout",
     "output_type": "stream",
     "text": [
      "-------3--------\n",
      "dict_keys(['rack'])\n",
      "-------3A-------\n",
      "dict_keys(['device'])\n",
      "-------3B-------\n",
      "dict_keys(['dev_id', 'dev_name', 'role', 'interfaces'])\n",
      "-------3C-------\n",
      "dict_keys(['interface', 'ipaddress', 'subnet_mask'])\n"
     ]
    }
   ],
   "source": [
    "print(\"-------3--------\")\n",
    "print(rack_struc.keys())\n",
    "print(\"-------3A-------\")\n",
    "print(rack_struc[\"rack\"][0].keys())\n",
    "print(\"-------3B-------\")\n",
    "print(rack_struc[\"rack\"][0][\"device\"].keys())\n",
    "print(\"-------3C-------\")\n",
    "print(rack_struc[\"rack\"][0][\"device\"][\"interfaces\"][0].keys())"
   ]
  },
  {
   "cell_type": "code",
   "execution_count": 19,
   "id": "26e2bbc5-6c7e-48f6-b9ec-6de3b41e6b6b",
   "metadata": {
    "collapsed": true,
    "jupyter": {
     "outputs_hidden": true
    }
   },
   "outputs": [
    {
     "name": "stdout",
     "output_type": "stream",
     "text": [
      "------ Filtering Routers Only ------\n",
      "Router: R1\n",
      "  - GigabitEthernet1 (IP: 10.0.1.1)\n",
      "  - GigabitEthernet1 (IP: 10.0.3.1)\n",
      "  - GigabitEthernet1 (IP: 10.0.4.1)\n"
     ]
    }
   ],
   "source": [
    "print(\"------ Filtering Routers Only ------\")\n",
    "for device in rack_struc[\"rack\"]:\n",
    "    dev = device[\"device\"]\n",
    "    if dev[\"role\"] == \"router\":\n",
    "        print(f\"Router: {dev['dev_name']}\")\n",
    "        for interface in dev[\"interfaces\"]:\n",
    "            print(f\"  - {interface['interface']} (IP: {interface['ipaddress']})\")"
   ]
  },
  {
   "cell_type": "code",
   "execution_count": 21,
   "id": "544e8fa2-ba9c-4439-901a-4afd2bb9fe86",
   "metadata": {
    "collapsed": true,
    "jupyter": {
     "outputs_hidden": true
    }
   },
   "outputs": [
    {
     "name": "stdout",
     "output_type": "stream",
     "text": [
      "------ Filtering for Interface GigabitEthernet1 ------\n",
      "Device: R1, Interface: GigabitEthernet1, IP: 10.0.1.1\n",
      "Device: R1, Interface: GigabitEthernet1, IP: 10.0.3.1\n",
      "Device: R1, Interface: GigabitEthernet1, IP: 10.0.4.1\n"
     ]
    }
   ],
   "source": [
    "print(\"------ Filtering for Interface GigabitEthernet1 ------\")\n",
    "for device in rack_struc[\"rack\"]:\n",
    "    dev = device[\"device\"]\n",
    "    for interface in dev[\"interfaces\"]:\n",
    "        if interface[\"interface\"] == \"GigabitEthernet1\":\n",
    "            print(f\"Device: {dev['dev_name']}, Interface: {interface['interface']}, IP: {interface['ipaddress']}\")\n"
   ]
  },
  {
   "cell_type": "markdown",
   "id": "5986c71e-93f1-4125-8caa-98a0ebb6662f",
   "metadata": {},
   "source": [
    "# Omzetten naar YAML"
   ]
  },
  {
   "cell_type": "code",
   "execution_count": 17,
   "id": "0d947d5b-7da0-4461-b51f-bc280f69e0ed",
   "metadata": {
    "collapsed": true,
    "jupyter": {
     "outputs_hidden": true
    }
   },
   "outputs": [
    {
     "name": "stdout",
     "output_type": "stream",
     "text": [
      "rack:\n",
      "- device:\n",
      "    dev_id: D1\n",
      "    dev_name: R1\n",
      "    interfaces:\n",
      "    - interface: GigabitEthernet1\n",
      "      ipaddress: 10.0.1.1\n",
      "      subnet_mask: 255.255.255.0\n",
      "    - interface: GigabitEthernet1\n",
      "      ipaddress: 10.0.3.1\n",
      "      subnet_mask: 255.255.255.0\n",
      "    - interface: GigabitEthernet1\n",
      "      ipaddress: 10.0.4.1\n",
      "      subnet_mask: 255.255.255.0\n",
      "    role: router\n",
      "- device:\n",
      "    dev_id: D2\n",
      "    dev_name: C1\n",
      "    interfaces:\n",
      "    - interface: VLAN1\n",
      "      ipaddress: 10.0.1.2\n",
      "      subnet_mask: 255.255.255.0\n",
      "    - interface: VLAN2\n",
      "      ipaddress: 10.0.2.1\n",
      "      subnet_mask: 255.255.255.0\n",
      "    - interface: VLAN20\n",
      "      ipaddress: 10.0.20.1\n",
      "      subnet_mask: 255.255.255.0\n",
      "    role: core\n",
      "- device:\n",
      "    dev_id: D3\n",
      "    dev_name: AC\n",
      "    interfaces:\n",
      "    - interface: VLAN2\n",
      "      ipaddress: 10.0.2.2\n",
      "      subnet_mask: 255.255.255.0\n",
      "    role: access\n",
      "\n"
     ]
    }
   ],
   "source": [
    "import yaml\n",
    "yaml_data = yaml.dump(rack_struc)\n",
    "print(yaml_data)"
   ]
  },
  {
   "cell_type": "markdown",
   "id": "69d4a789-60e1-49de-97fd-f54dc1ae5e51",
   "metadata": {},
   "source": [
    "# Omzetten naar Spreadsheet"
   ]
  },
  {
   "cell_type": "code",
   "execution_count": 26,
   "id": "d2afc9f9-2ca8-4a19-85ce-d85782590cdb",
   "metadata": {},
   "outputs": [
    {
     "name": "stdout",
     "output_type": "stream",
     "text": [
      "Requirement already satisfied: pandas in c:\\users\\stefa\\anaconda3\\lib\\site-packages (2.2.2)\n",
      "Requirement already satisfied: openpyxl in c:\\users\\stefa\\anaconda3\\lib\\site-packages (3.1.5)\n",
      "Requirement already satisfied: numpy>=1.26.0 in c:\\users\\stefa\\anaconda3\\lib\\site-packages (from pandas) (1.26.4)\n",
      "Requirement already satisfied: python-dateutil>=2.8.2 in c:\\users\\stefa\\anaconda3\\lib\\site-packages (from pandas) (2.9.0.post0)\n",
      "Requirement already satisfied: pytz>=2020.1 in c:\\users\\stefa\\anaconda3\\lib\\site-packages (from pandas) (2024.1)\n",
      "Requirement already satisfied: tzdata>=2022.7 in c:\\users\\stefa\\anaconda3\\lib\\site-packages (from pandas) (2023.3)\n",
      "Requirement already satisfied: et-xmlfile in c:\\users\\stefa\\anaconda3\\lib\\site-packages (from openpyxl) (1.1.0)\n",
      "Requirement already satisfied: six>=1.5 in c:\\users\\stefa\\anaconda3\\lib\\site-packages (from python-dateutil>=2.8.2->pandas) (1.16.0)\n"
     ]
    }
   ],
   "source": [
    "!pip install pandas openpyxl\n"
   ]
  },
  {
   "cell_type": "code",
   "execution_count": 28,
   "id": "b9a3c541-8105-41d9-a282-f42cc6241051",
   "metadata": {},
   "outputs": [
    {
     "name": "stdout",
     "output_type": "stream",
     "text": [
      "Libraries are installed!\n"
     ]
    }
   ],
   "source": [
    "#### checken als installtie werkt\n",
    "import pandas as pd\n",
    "import openpyxl\n",
    "print(\"Libraries are installed!\")\n"
   ]
  },
  {
   "cell_type": "code",
   "execution_count": 30,
   "id": "8dfdd493-3d77-4e88-8cd9-819a3870019d",
   "metadata": {},
   "outputs": [
    {
     "name": "stdout",
     "output_type": "stream",
     "text": [
      "Data saved to C:\\Users\\stefa\\Documents\\Informatica\\Fase_3\\Devnet\\rack_structure_device_StefanSutanto.xlsx\n"
     ]
    }
   ],
   "source": [
    "import pandas as pd\n",
    "\n",
    "# Flatten the rack_struc data into a list of rows\n",
    "data = []\n",
    "for device in rack_struc[\"rack\"]:\n",
    "    dev = device[\"device\"]\n",
    "    dev_name = dev[\"dev_name\"]\n",
    "    dev_role = dev[\"role\"]\n",
    "    \n",
    "    for interface in dev[\"interfaces\"]:\n",
    "        row = {\n",
    "            \"Device Name\": dev_name,\n",
    "            \"Role\": dev_role,\n",
    "            \"Interface\": interface[\"interface\"],\n",
    "            \"IP Address\": interface[\"ipaddress\"],\n",
    "            \"Subnet Mask\": interface[\"subnet_mask\"]\n",
    "        }\n",
    "        data.append(row)\n",
    "\n",
    "# Convert list of rows into a DataFrame\n",
    "df = pd.DataFrame(data)\n",
    "\n",
    "# Save the DataFrame to an Excel file\n",
    "output_file = \"C:\\\\Users\\\\stefa\\\\Documents\\\\Informatica\\\\Fase_3\\\\Devnet\\\\rack_structure_device_StefanSutanto.xlsx\"\n",
    "df.to_excel(output_file, index=False)\n",
    "\n",
    "print(f\"Data saved to {output_file}\")\n"
   ]
  },
  {
   "cell_type": "code",
   "execution_count": 32,
   "id": "a72549a1-7f65-4db0-8902-3048fe61307d",
   "metadata": {},
   "outputs": [
    {
     "name": "stdout",
     "output_type": "stream",
     "text": [
      "C:\\Users\\stefa\n"
     ]
    }
   ],
   "source": [
    "import os\n",
    "print(os.getcwd())\n"
   ]
  },
  {
   "cell_type": "code",
   "execution_count": null,
   "id": "2cd747e5-ef6d-4ae3-9df2-0aeb94e7815e",
   "metadata": {},
   "outputs": [],
   "source": []
  }
 ],
 "metadata": {
  "kernelspec": {
   "display_name": "Python [conda env:base] *",
   "language": "python",
   "name": "conda-base-py"
  },
  "language_info": {
   "codemirror_mode": {
    "name": "ipython",
    "version": 3
   },
   "file_extension": ".py",
   "mimetype": "text/x-python",
   "name": "python",
   "nbconvert_exporter": "python",
   "pygments_lexer": "ipython3",
   "version": "3.12.7"
  }
 },
 "nbformat": 4,
 "nbformat_minor": 5
}
