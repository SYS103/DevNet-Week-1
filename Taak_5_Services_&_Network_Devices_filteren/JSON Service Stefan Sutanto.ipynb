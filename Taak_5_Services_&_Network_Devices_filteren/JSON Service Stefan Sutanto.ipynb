{
 "cells": [
  {
   "cell_type": "code",
   "execution_count": 3,
   "id": "12590b71-e539-449f-9452-ac2aec226492",
   "metadata": {
    "collapsed": true,
    "jupyter": {
     "outputs_hidden": true
    }
   },
   "outputs": [
    {
     "name": "stdout",
     "output_type": "stream",
     "text": [
      "{\n",
      "    \"rack\": [\n",
      "        {\n",
      "            \"server\": {\n",
      "                \"dev_id\": \"S10\",\n",
      "                \"server_name\": \"svr1\",\n",
      "                \"domain\": \"biasc.be\",\n",
      "                \"ip-address\": \"10.2.3.11\",\n",
      "                \"os\": \"linux\",\n",
      "                \"server_type\": \"vm\",\n",
      "                \"services\": [\n",
      "                    {\n",
      "                        \"service\": \"ad\",\n",
      "                        \"service_type\": \"vm\",\n",
      "                        \"protocol\": \"tcp\",\n",
      "                        \"port\": \"389\"\n",
      "                    },\n",
      "                    {\n",
      "                        \"service\": \"dns\",\n",
      "                        \"service_type\": \"vm\",\n",
      "                        \"protocol\": \"udp\",\n",
      "                        \"port\": \"53\"\n",
      "                    },\n",
      "                    {\n",
      "                        \"service\": \"ntp\",\n",
      "                        \"service_type\": \"vm\",\n",
      "                        \"protocol\": \"udp\",\n",
      "                        \"port\": \"123\"\n",
      "                    }\n",
      "                ]\n",
      "            }\n",
      "        },\n",
      "        {\n",
      "            \"server\": {\n",
      "                \"dev_id\": \"S20\",\n",
      "                \"server_name\": \"svr2\",\n",
      "                \"domain\": \"biasc.be\",\n",
      "                \"ip-address\": \"10.2.3.12\",\n",
      "                \"os\": \"linux\",\n",
      "                \"server_type\": \"vm\",\n",
      "                \"services\": [\n",
      "                    {\n",
      "                        \"service\": \"flask\",\n",
      "                        \"service_type\": \"vm\",\n",
      "                        \"protocol\": \"tcp\",\n",
      "                        \"port\": \"8089\"\n",
      "                    },\n",
      "                    {\n",
      "                        \"service\": \"db\",\n",
      "                        \"service_type\": \"vm\",\n",
      "                        \"protocol\": \"tcp\",\n",
      "                        \"port\": \"1521\"\n",
      "                    }\n",
      "                ]\n",
      "            }\n",
      "        },\n",
      "        {\n",
      "            \"server\": {\n",
      "                \"dev_id\": \"S30\",\n",
      "                \"server_name\": \"svr3\",\n",
      "                \"domain\": \"biasc.be\",\n",
      "                \"ip-address\": \"10.2.3.13\",\n",
      "                \"os\": \"linux\",\n",
      "                \"server_type\": \"vm\",\n",
      "                \"services\": [\n",
      "                    {\n",
      "                        \"service\": \"dns\",\n",
      "                        \"service_type\": \"vm\",\n",
      "                        \"protocol\": \"tcp\",\n",
      "                        \"port\": \"8089\"\n",
      "                    },\n",
      "                    {\n",
      "                        \"service\": \"ntp\",\n",
      "                        \"service_type\": \"vm\",\n",
      "                        \"protocol\": \"udp\",\n",
      "                        \"port\": \"123\"\n",
      "                    },\n",
      "                    {\n",
      "                        \"service\": \"dhcp\",\n",
      "                        \"service_type\": \"docker\",\n",
      "                        \"protocol\": \"udp\",\n",
      "                        \"port\": \"67\"\n",
      "                    }\n",
      "                ]\n",
      "            }\n",
      "        }\n",
      "    ]\n",
      "}\n"
     ]
    }
   ],
   "source": [
    "import json\n",
    "### RULES\n",
    "inventory_dict        = {} #### {\"service\": \"ad\", \"service_type\": \"vm\", \"protocol\": \"tcp\", \"port\": \"389\"}\n",
    "inventory_list        = []\n",
    "servers_struc         = {} #### YANG MODULE OF CONTAINER {inventory_dict}\n",
    "servers_struc[\"rack\"] = [] #### YANG CONTAINER {inventory_list}\n",
    "serv_dict             = {} #### YANG LEAF {\"server\": {\"serv_name\": \"svr1\", \"domain\": \"biasc.be\" , \"ip-address\": 10, \"os\": \"linux\" , \"server_type\": \"vm\"}}\n",
    "serv_list             = [] #### YANG LIST [serv_dict]\n",
    "service_dict          = {} #### YANG LEAF {\"service\": \"ad\", \"service_type\": \"vm\", \"protocol\": \"tcp\", \"port\": \"389\"}\n",
    "service_list          = [] #### YANG LIST [service_dict]\n",
    "\n",
    "####\n",
    "servers_struc = {\n",
    "    \"rack\": [\n",
    "        { \"server\": { \"dev_id\": \"S10\" , \"server_name\": \"svr1\" , \"domain\": \"biasc.be\", \"ip-address\": \"10.2.3.11\" ,\n",
    "                      \"os\": \"linux\" , \"server_type\": \"vm\" ,\n",
    "                      \"services\": [\n",
    "                          {\"service\": \"ad\" , \"service_type\": \"vm\", \"protocol\": \"tcp\", \"port\": \"389\"}, \n",
    "                          {\"service\": \"dns\", \"service_type\": \"vm\", \"protocol\": \"udp\", \"port\": \"53\"}, \n",
    "                          {\"service\": \"ntp\", \"service_type\": \"vm\", \"protocol\": \"udp\", \"port\": \"123\"}\n",
    "                      ]\n",
    "                    }\n",
    "        },\n",
    "        { \"server\": { \"dev_id\": \"S20\" , \"server_name\": \"svr2\" , \"domain\": \"biasc.be\", \"ip-address\": \"10.2.3.12\" ,\n",
    "                      \"os\": \"linux\" , \"server_type\": \"vm\" ,\n",
    "                      \"services\": [\n",
    "                          {\"service\": \"flask\" , \"service_type\": \"vm\", \"protocol\": \"tcp\", \"port\": \"8089\"}, \n",
    "                          {\"service\": \"db\"    , \"service_type\": \"vm\", \"protocol\": \"tcp\", \"port\": \"1521\"}\n",
    "                      ]\n",
    "                    }\n",
    "        },\n",
    "        { \"server\": { \"dev_id\": \"S30\" , \"server_name\": \"svr3\" , \"domain\": \"biasc.be\", \"ip-address\": \"10.2.3.13\" ,\n",
    "                      \"os\": \"linux\" , \"server_type\": \"vm\" ,\n",
    "                      \"services\": [\n",
    "                          {\"service\": \"dns\" , \"service_type\": \"vm\", \"protocol\": \"tcp\", \"port\": \"8089\"}, \n",
    "                          {\"service\": \"ntp\" , \"service_type\": \"vm\", \"protocol\": \"udp\", \"port\": \"123\"}, \n",
    "                          {\"service\": \"dhcp\", \"service_type\": \"docker\", \"protocol\": \"udp\", \"port\": \"67\"}\n",
    "                      ]\n",
    "                    }\n",
    "        }\n",
    "    ]\n",
    "}\n",
    "\n",
    "print(json.dumps(servers_struc, indent=4))"
   ]
  },
  {
   "cell_type": "markdown",
   "id": "acb8bec4-fd2c-413e-85c0-d0c9ba46b077",
   "metadata": {},
   "source": [
    "# Filteren"
   ]
  },
  {
   "cell_type": "code",
   "execution_count": 8,
   "id": "fe3ea305-7a9a-481d-964f-67e6a7709cc9",
   "metadata": {
    "collapsed": true,
    "jupyter": {
     "outputs_hidden": true
    }
   },
   "outputs": [
    {
     "name": "stdout",
     "output_type": "stream",
     "text": [
      "-------1-------\n",
      "<class 'dict'>\n",
      "{'rack': [{'server': {'dev_id': 'S10', 'server_name': 'svr1', 'domain': 'biasc.be', 'ip-address': '10.2.3.11', 'os': 'linux', 'server_type': 'vm', 'services': [{'service': 'ad', 'service_type': 'vm', 'protocol': 'tcp', 'port': '389'}, {'service': 'dns', 'service_type': 'vm', 'protocol': 'udp', 'port': '53'}, {'service': 'ntp', 'service_type': 'vm', 'protocol': 'udp', 'port': '123'}]}}, {'server': {'dev_id': 'S20', 'server_name': 'svr2', 'domain': 'biasc.be', 'ip-address': '10.2.3.12', 'os': 'linux', 'server_type': 'vm', 'services': [{'service': 'flask', 'service_type': 'vm', 'protocol': 'tcp', 'port': '8089'}, {'service': 'db', 'service_type': 'vm', 'protocol': 'tcp', 'port': '1521'}]}}, {'server': {'dev_id': 'S30', 'server_name': 'svr3', 'domain': 'biasc.be', 'ip-address': '10.2.3.13', 'os': 'linux', 'server_type': 'vm', 'services': [{'service': 'dns', 'service_type': 'vm', 'protocol': 'tcp', 'port': '8089'}, {'service': 'ntp', 'service_type': 'vm', 'protocol': 'udp', 'port': '123'}, {'service': 'dhcp', 'service_type': 'docker', 'protocol': 'udp', 'port': '67'}]}}]}\n",
      "------1A-------\n",
      "<class 'str'>\n",
      "{\"rack\": [{\"server\": {\"dev_id\": \"S10\", \"server_name\": \"svr1\", \"domain\": \"biasc.be\", \"ip-address\": \"10.2.3.11\", \"os\": \"linux\", \"server_type\": \"vm\", \"services\": [{\"service\": \"ad\", \"service_type\": \"vm\", \"protocol\": \"tcp\", \"port\": \"389\"}, {\"service\": \"dns\", \"service_type\": \"vm\", \"protocol\": \"udp\", \"port\": \"53\"}, {\"service\": \"ntp\", \"service_type\": \"vm\", \"protocol\": \"udp\", \"port\": \"123\"}]}}, {\"server\": {\"dev_id\": \"S20\", \"server_name\": \"svr2\", \"domain\": \"biasc.be\", \"ip-address\": \"10.2.3.12\", \"os\": \"linux\", \"server_type\": \"vm\", \"services\": [{\"service\": \"flask\", \"service_type\": \"vm\", \"protocol\": \"tcp\", \"port\": \"8089\"}, {\"service\": \"db\", \"service_type\": \"vm\", \"protocol\": \"tcp\", \"port\": \"1521\"}]}}, {\"server\": {\"dev_id\": \"S30\", \"server_name\": \"svr3\", \"domain\": \"biasc.be\", \"ip-address\": \"10.2.3.13\", \"os\": \"linux\", \"server_type\": \"vm\", \"services\": [{\"service\": \"dns\", \"service_type\": \"vm\", \"protocol\": \"tcp\", \"port\": \"8089\"}, {\"service\": \"ntp\", \"service_type\": \"vm\", \"protocol\": \"udp\", \"port\": \"123\"}, {\"service\": \"dhcp\", \"service_type\": \"docker\", \"protocol\": \"udp\", \"port\": \"67\"}]}}]}\n",
      "------1B-------\n",
      "{\n",
      "    \"rack\": [\n",
      "        {\n",
      "            \"server\": {\n",
      "                \"dev_id\": \"S10\",\n",
      "                \"server_name\": \"svr1\",\n",
      "                \"domain\": \"biasc.be\",\n",
      "                \"ip-address\": \"10.2.3.11\",\n",
      "                \"os\": \"linux\",\n",
      "                \"server_type\": \"vm\",\n",
      "                \"services\": [\n",
      "                    {\n",
      "                        \"service\": \"ad\",\n",
      "                        \"service_type\": \"vm\",\n",
      "                        \"protocol\": \"tcp\",\n",
      "                        \"port\": \"389\"\n",
      "                    },\n",
      "                    {\n",
      "                        \"service\": \"dns\",\n",
      "                        \"service_type\": \"vm\",\n",
      "                        \"protocol\": \"udp\",\n",
      "                        \"port\": \"53\"\n",
      "                    },\n",
      "                    {\n",
      "                        \"service\": \"ntp\",\n",
      "                        \"service_type\": \"vm\",\n",
      "                        \"protocol\": \"udp\",\n",
      "                        \"port\": \"123\"\n",
      "                    }\n",
      "                ]\n",
      "            }\n",
      "        },\n",
      "        {\n",
      "            \"server\": {\n",
      "                \"dev_id\": \"S20\",\n",
      "                \"server_name\": \"svr2\",\n",
      "                \"domain\": \"biasc.be\",\n",
      "                \"ip-address\": \"10.2.3.12\",\n",
      "                \"os\": \"linux\",\n",
      "                \"server_type\": \"vm\",\n",
      "                \"services\": [\n",
      "                    {\n",
      "                        \"service\": \"flask\",\n",
      "                        \"service_type\": \"vm\",\n",
      "                        \"protocol\": \"tcp\",\n",
      "                        \"port\": \"8089\"\n",
      "                    },\n",
      "                    {\n",
      "                        \"service\": \"db\",\n",
      "                        \"service_type\": \"vm\",\n",
      "                        \"protocol\": \"tcp\",\n",
      "                        \"port\": \"1521\"\n",
      "                    }\n",
      "                ]\n",
      "            }\n",
      "        },\n",
      "        {\n",
      "            \"server\": {\n",
      "                \"dev_id\": \"S30\",\n",
      "                \"server_name\": \"svr3\",\n",
      "                \"domain\": \"biasc.be\",\n",
      "                \"ip-address\": \"10.2.3.13\",\n",
      "                \"os\": \"linux\",\n",
      "                \"server_type\": \"vm\",\n",
      "                \"services\": [\n",
      "                    {\n",
      "                        \"service\": \"dns\",\n",
      "                        \"service_type\": \"vm\",\n",
      "                        \"protocol\": \"tcp\",\n",
      "                        \"port\": \"8089\"\n",
      "                    },\n",
      "                    {\n",
      "                        \"service\": \"ntp\",\n",
      "                        \"service_type\": \"vm\",\n",
      "                        \"protocol\": \"udp\",\n",
      "                        \"port\": \"123\"\n",
      "                    },\n",
      "                    {\n",
      "                        \"service\": \"dhcp\",\n",
      "                        \"service_type\": \"docker\",\n",
      "                        \"protocol\": \"udp\",\n",
      "                        \"port\": \"67\"\n",
      "                    }\n",
      "                ]\n",
      "            }\n",
      "        }\n",
      "    ]\n",
      "}\n"
     ]
    }
   ],
   "source": [
    "print(\"-------1-------\")\n",
    "print(type(servers_struc))\n",
    "print(servers_struc)\n",
    "print(\"------1A-------\")\n",
    "js_groups = json.dumps(servers_struc)\n",
    "print(type(js_groups))\n",
    "print(js_groups)\n",
    "print(\"------1B-------\")\n",
    "print(json.dumps(servers_struc, indent=4))"
   ]
  },
  {
   "cell_type": "code",
   "execution_count": 10,
   "id": "e89a70ca-3bf2-4977-83a1-7bf3f13e2b14",
   "metadata": {
    "collapsed": true,
    "jupyter": {
     "outputs_hidden": true
    }
   },
   "outputs": [
    {
     "name": "stdout",
     "output_type": "stream",
     "text": [
      "-------2--------\n",
      "-------2A-------\n",
      "<class 'dict'>\n",
      "{'server': {'dev_id': 'S10', 'server_name': 'svr1', 'domain': 'biasc.be', 'ip-address': '10.2.3.11', 'os': 'linux', 'server_type': 'vm', 'services': [{'service': 'ad', 'service_type': 'vm', 'protocol': 'tcp', 'port': '389'}, {'service': 'dns', 'service_type': 'vm', 'protocol': 'udp', 'port': '53'}, {'service': 'ntp', 'service_type': 'vm', 'protocol': 'udp', 'port': '123'}]}}\n",
      "[{'service': 'ad', 'service_type': 'vm', 'protocol': 'tcp', 'port': '389'}, {'service': 'dns', 'service_type': 'vm', 'protocol': 'udp', 'port': '53'}, {'service': 'ntp', 'service_type': 'vm', 'protocol': 'udp', 'port': '123'}]\n",
      "{'service': 'ad', 'service_type': 'vm', 'protocol': 'tcp', 'port': '389'}\n",
      "{'service': 'dns', 'service_type': 'vm', 'protocol': 'udp', 'port': '53'}\n",
      "{'service': 'ntp', 'service_type': 'vm', 'protocol': 'udp', 'port': '123'}\n",
      "-------2A-------\n",
      "<class 'dict'>\n",
      "{'server': {'dev_id': 'S20', 'server_name': 'svr2', 'domain': 'biasc.be', 'ip-address': '10.2.3.12', 'os': 'linux', 'server_type': 'vm', 'services': [{'service': 'flask', 'service_type': 'vm', 'protocol': 'tcp', 'port': '8089'}, {'service': 'db', 'service_type': 'vm', 'protocol': 'tcp', 'port': '1521'}]}}\n",
      "[{'service': 'flask', 'service_type': 'vm', 'protocol': 'tcp', 'port': '8089'}, {'service': 'db', 'service_type': 'vm', 'protocol': 'tcp', 'port': '1521'}]\n",
      "{'service': 'flask', 'service_type': 'vm', 'protocol': 'tcp', 'port': '8089'}\n",
      "{'service': 'db', 'service_type': 'vm', 'protocol': 'tcp', 'port': '1521'}\n",
      "-------2A-------\n",
      "<class 'dict'>\n",
      "{'server': {'dev_id': 'S30', 'server_name': 'svr3', 'domain': 'biasc.be', 'ip-address': '10.2.3.13', 'os': 'linux', 'server_type': 'vm', 'services': [{'service': 'dns', 'service_type': 'vm', 'protocol': 'tcp', 'port': '8089'}, {'service': 'ntp', 'service_type': 'vm', 'protocol': 'udp', 'port': '123'}, {'service': 'dhcp', 'service_type': 'docker', 'protocol': 'udp', 'port': '67'}]}}\n",
      "[{'service': 'dns', 'service_type': 'vm', 'protocol': 'tcp', 'port': '8089'}, {'service': 'ntp', 'service_type': 'vm', 'protocol': 'udp', 'port': '123'}, {'service': 'dhcp', 'service_type': 'docker', 'protocol': 'udp', 'port': '67'}]\n",
      "{'service': 'dns', 'service_type': 'vm', 'protocol': 'tcp', 'port': '8089'}\n",
      "{'service': 'ntp', 'service_type': 'vm', 'protocol': 'udp', 'port': '123'}\n",
      "{'service': 'dhcp', 'service_type': 'docker', 'protocol': 'udp', 'port': '67'}\n"
     ]
    }
   ],
   "source": [
    "print(\"-------2--------\")\n",
    "for g in servers_struc[\"rack\"]:\n",
    "    print(\"-------2A-------\")\n",
    "    print(type(g))\n",
    "    print (g)\n",
    "    print(g[\"server\"][\"services\"])\n",
    "    for p in g[\"server\"][\"services\"]:\n",
    "        print(p)"
   ]
  },
  {
   "cell_type": "code",
   "execution_count": 12,
   "id": "54c3c996-c10b-45df-b551-43982f742f25",
   "metadata": {},
   "outputs": [
    {
     "name": "stdout",
     "output_type": "stream",
     "text": [
      "-------3--------\n",
      "dict_keys(['rack'])\n",
      "-------3A-------\n",
      "dict_keys(['server'])\n",
      "-------3B-------\n",
      "dict_keys(['dev_id', 'server_name', 'domain', 'ip-address', 'os', 'server_type', 'services'])\n",
      "-------3C-------\n",
      "dict_keys(['service', 'service_type', 'protocol', 'port'])\n"
     ]
    }
   ],
   "source": [
    "print(\"-------3--------\")\n",
    "print(servers_struc.keys())\n",
    "print(\"-------3A-------\")\n",
    "print(servers_struc[\"rack\"][0].keys())\n",
    "print(\"-------3B-------\")\n",
    "print(servers_struc[\"rack\"][0][\"server\"].keys())\n",
    "print(\"-------3C-------\")\n",
    "print(servers_struc[\"rack\"][0][\"server\"][\"services\"][0].keys())"
   ]
  },
  {
   "cell_type": "code",
   "execution_count": 14,
   "id": "3390c20a-8390-4303-8a29-51d9a2ffbc3e",
   "metadata": {},
   "outputs": [
    {
     "name": "stdout",
     "output_type": "stream",
     "text": [
      "------ Filtering by OS: Linux ------\n",
      "Server: svr1 (OS: linux)\n",
      "Server: svr2 (OS: linux)\n",
      "Server: svr3 (OS: linux)\n"
     ]
    }
   ],
   "source": [
    "print(\"------ Filtering by OS: Linux ------\")\n",
    "for server in servers_struc[\"rack\"]:\n",
    "    serv = server[\"server\"]\n",
    "    if serv[\"os\"] == \"linux\":\n",
    "        print(f\"Server: {serv['server_name']} (OS: {serv['os']})\")\n"
   ]
  },
  {
   "cell_type": "code",
   "execution_count": 16,
   "id": "274f9fac-d185-41df-9f75-8b825df52889",
   "metadata": {},
   "outputs": [
    {
     "name": "stdout",
     "output_type": "stream",
     "text": [
      "------ Filtering by Protocol: UDP ------\n",
      "Server: svr1 (Service: dns, Protocol: udp)\n",
      "Server: svr1 (Service: ntp, Protocol: udp)\n",
      "Server: svr3 (Service: ntp, Protocol: udp)\n",
      "Server: svr3 (Service: dhcp, Protocol: udp)\n"
     ]
    }
   ],
   "source": [
    "print(\"------ Filtering by Protocol: UDP ------\")\n",
    "for server in servers_struc[\"rack\"]:\n",
    "    serv = server[\"server\"]\n",
    "    for service in serv[\"services\"]:\n",
    "        if service[\"protocol\"] == \"udp\":\n",
    "            print(f\"Server: {serv['server_name']} (Service: {service['service']}, Protocol: {service['protocol']})\")\n"
   ]
  },
  {
   "cell_type": "markdown",
   "id": "f561f52a-acaa-4734-9101-1997e2be2f99",
   "metadata": {},
   "source": [
    "# Omzetten naar YAML"
   ]
  },
  {
   "cell_type": "code",
   "execution_count": 18,
   "id": "dad7bed2-190b-4af2-8ba7-d096a0a8701e",
   "metadata": {},
   "outputs": [
    {
     "name": "stdout",
     "output_type": "stream",
     "text": [
      "rack:\n",
      "- server:\n",
      "    dev_id: S10\n",
      "    domain: biasc.be\n",
      "    ip-address: 10.2.3.11\n",
      "    os: linux\n",
      "    server_name: svr1\n",
      "    server_type: vm\n",
      "    services:\n",
      "    - port: '389'\n",
      "      protocol: tcp\n",
      "      service: ad\n",
      "      service_type: vm\n",
      "    - port: '53'\n",
      "      protocol: udp\n",
      "      service: dns\n",
      "      service_type: vm\n",
      "    - port: '123'\n",
      "      protocol: udp\n",
      "      service: ntp\n",
      "      service_type: vm\n",
      "- server:\n",
      "    dev_id: S20\n",
      "    domain: biasc.be\n",
      "    ip-address: 10.2.3.12\n",
      "    os: linux\n",
      "    server_name: svr2\n",
      "    server_type: vm\n",
      "    services:\n",
      "    - port: '8089'\n",
      "      protocol: tcp\n",
      "      service: flask\n",
      "      service_type: vm\n",
      "    - port: '1521'\n",
      "      protocol: tcp\n",
      "      service: db\n",
      "      service_type: vm\n",
      "- server:\n",
      "    dev_id: S30\n",
      "    domain: biasc.be\n",
      "    ip-address: 10.2.3.13\n",
      "    os: linux\n",
      "    server_name: svr3\n",
      "    server_type: vm\n",
      "    services:\n",
      "    - port: '8089'\n",
      "      protocol: tcp\n",
      "      service: dns\n",
      "      service_type: vm\n",
      "    - port: '123'\n",
      "      protocol: udp\n",
      "      service: ntp\n",
      "      service_type: vm\n",
      "    - port: '67'\n",
      "      protocol: udp\n",
      "      service: dhcp\n",
      "      service_type: docker\n",
      "\n"
     ]
    }
   ],
   "source": [
    "import yaml\n",
    "yaml_data = yaml.dump(servers_struc)\n",
    "print(yaml_data)"
   ]
  },
  {
   "cell_type": "markdown",
   "id": "d47be265-2a78-4553-8c87-7ccda5e8534d",
   "metadata": {},
   "source": [
    "# Omzetten naar Spreadsheet"
   ]
  },
  {
   "cell_type": "code",
   "execution_count": 20,
   "id": "ff1bb584-42d5-4b69-a076-954743e09d4b",
   "metadata": {},
   "outputs": [
    {
     "name": "stdout",
     "output_type": "stream",
     "text": [
      "Data saved to C:\\Users\\stefa\\Documents\\Informatica\\Fase_3\\Devnet\\servers_structure_StefanSutanto.xlsx\n"
     ]
    }
   ],
   "source": [
    "import pandas as pd\n",
    "\n",
    "# Flatten the servers_struc data into a list of rows\n",
    "data = []\n",
    "for server_item in servers_struc[\"rack\"]:\n",
    "    server = server_item[\"server\"]\n",
    "    server_name = server[\"server_name\"]\n",
    "    domain = server[\"domain\"]\n",
    "    ip_address = server[\"ip-address\"]\n",
    "    os = server[\"os\"]\n",
    "    server_type = server[\"server_type\"]\n",
    "\n",
    "    for service in server[\"services\"]:\n",
    "        row = {\n",
    "            \"Server Name\": server_name,\n",
    "            \"Domain\": domain,\n",
    "            \"IP Address\": ip_address,\n",
    "            \"Operating System\": os,\n",
    "            \"Server Type\": server_type,\n",
    "            \"Service\": service[\"service\"],\n",
    "            \"Service Type\": service[\"service_type\"],\n",
    "            \"Protocol\": service[\"protocol\"],\n",
    "            \"Port\": service[\"port\"]\n",
    "        }\n",
    "        data.append(row)\n",
    "\n",
    "# Convert list of rows into a DataFrame\n",
    "df = pd.DataFrame(data)\n",
    "\n",
    "# Save the DataFrame to an Excel file\n",
    "output_file = \"C:\\\\Users\\\\stefa\\\\Documents\\\\Informatica\\\\Fase_3\\\\Devnet\\\\servers_structure_StefanSutanto.xlsx\"\n",
    "df.to_excel(output_file, index=False)\n",
    "\n",
    "print(f\"Data saved to {output_file}\")\n"
   ]
  },
  {
   "cell_type": "code",
   "execution_count": 23,
   "id": "19dbf35f-1317-4ef8-9429-0bd860f2ff77",
   "metadata": {},
   "outputs": [
    {
     "name": "stdout",
     "output_type": "stream",
     "text": [
      "C:\\Users\\stefa\n"
     ]
    }
   ],
   "source": [
    "import os\n",
    "print(os.getcwd())"
   ]
  },
  {
   "cell_type": "code",
   "execution_count": null,
   "id": "f1a3ff39-3f13-4e95-9f1a-3ba1eedc47dc",
   "metadata": {},
   "outputs": [],
   "source": []
  }
 ],
 "metadata": {
  "kernelspec": {
   "display_name": "Python [conda env:base] *",
   "language": "python",
   "name": "conda-base-py"
  },
  "language_info": {
   "codemirror_mode": {
    "name": "ipython",
    "version": 3
   },
   "file_extension": ".py",
   "mimetype": "text/x-python",
   "name": "python",
   "nbconvert_exporter": "python",
   "pygments_lexer": "ipython3",
   "version": "3.12.7"
  }
 },
 "nbformat": 4,
 "nbformat_minor": 5
}
